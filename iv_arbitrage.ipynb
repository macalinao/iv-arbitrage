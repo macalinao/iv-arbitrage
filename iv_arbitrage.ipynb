{
 "cells": [
  {
   "cell_type": "markdown",
   "metadata": {},
   "source": [
    "First, let's read in our data."
   ]
  },
  {
   "cell_type": "code",
   "execution_count": 28,
   "metadata": {
    "collapsed": false
   },
   "outputs": [
    {
     "data": {
      "text/html": [
       "<div>\n",
       "<table border=\"1\" class=\"dataframe\">\n",
       "  <thead>\n",
       "    <tr style=\"text-align: right;\">\n",
       "      <th></th>\n",
       "      <th>Date</th>\n",
       "      <th>a/b Open</th>\n",
       "      <th>a/b Close</th>\n",
       "      <th>b/c open</th>\n",
       "      <th>b/c close</th>\n",
       "      <th>a/c open</th>\n",
       "      <th>a/c close</th>\n",
       "    </tr>\n",
       "  </thead>\n",
       "  <tbody>\n",
       "    <tr>\n",
       "      <th>0</th>\n",
       "      <td>1/1/10</td>\n",
       "      <td>11.035</td>\n",
       "      <td>11.0350</td>\n",
       "      <td>13.66</td>\n",
       "      <td>13.6350</td>\n",
       "      <td>12.900</td>\n",
       "      <td>12.885</td>\n",
       "    </tr>\n",
       "    <tr>\n",
       "      <th>1</th>\n",
       "      <td>1/4/10</td>\n",
       "      <td>11.115</td>\n",
       "      <td>11.0500</td>\n",
       "      <td>13.66</td>\n",
       "      <td>13.6850</td>\n",
       "      <td>12.950</td>\n",
       "      <td>13.000</td>\n",
       "    </tr>\n",
       "    <tr>\n",
       "      <th>2</th>\n",
       "      <td>1/5/10</td>\n",
       "      <td>11.040</td>\n",
       "      <td>10.5900</td>\n",
       "      <td>13.69</td>\n",
       "      <td>13.3200</td>\n",
       "      <td>13.000</td>\n",
       "      <td>12.650</td>\n",
       "    </tr>\n",
       "    <tr>\n",
       "      <th>3</th>\n",
       "      <td>1/6/10</td>\n",
       "      <td>10.595</td>\n",
       "      <td>10.5425</td>\n",
       "      <td>13.38</td>\n",
       "      <td>12.9025</td>\n",
       "      <td>12.715</td>\n",
       "      <td>12.495</td>\n",
       "    </tr>\n",
       "    <tr>\n",
       "      <th>4</th>\n",
       "      <td>1/7/10</td>\n",
       "      <td>10.545</td>\n",
       "      <td>10.6375</td>\n",
       "      <td>12.95</td>\n",
       "      <td>13.1000</td>\n",
       "      <td>12.580</td>\n",
       "      <td>12.270</td>\n",
       "    </tr>\n",
       "  </tbody>\n",
       "</table>\n",
       "</div>"
      ],
      "text/plain": [
       "     Date  a/b Open  a/b Close  b/c open  b/c close  a/c open  a/c close\n",
       "0  1/1/10    11.035    11.0350     13.66    13.6350    12.900     12.885\n",
       "1  1/4/10    11.115    11.0500     13.66    13.6850    12.950     13.000\n",
       "2  1/5/10    11.040    10.5900     13.69    13.3200    13.000     12.650\n",
       "3  1/6/10    10.595    10.5425     13.38    12.9025    12.715     12.495\n",
       "4  1/7/10    10.545    10.6375     12.95    13.1000    12.580     12.270"
      ]
     },
     "execution_count": 28,
     "metadata": {},
     "output_type": "execute_result"
    }
   ],
   "source": [
    "import pandas as pd\n",
    "\n",
    "# Inline\n",
    "import matplotlib.pyplot as plt\n",
    "%matplotlib inline\n",
    "\n",
    "df = pd.read_csv(\"data.csv\")\n",
    "\n",
    "df.head()"
   ]
  },
  {
   "cell_type": "markdown",
   "metadata": {},
   "source": [
    "Here's the result of `df.describe()` on our data."
   ]
  },
  {
   "cell_type": "code",
   "execution_count": 29,
   "metadata": {
    "collapsed": false
   },
   "outputs": [
    {
     "data": {
      "text/html": [
       "<div>\n",
       "<table border=\"1\" class=\"dataframe\">\n",
       "  <thead>\n",
       "    <tr style=\"text-align: right;\">\n",
       "      <th></th>\n",
       "      <th>a/b Open</th>\n",
       "      <th>a/b Close</th>\n",
       "      <th>b/c open</th>\n",
       "      <th>b/c close</th>\n",
       "      <th>a/c open</th>\n",
       "      <th>a/c close</th>\n",
       "    </tr>\n",
       "  </thead>\n",
       "  <tbody>\n",
       "    <tr>\n",
       "      <th>count</th>\n",
       "      <td>1781.000000</td>\n",
       "      <td>1781.000000</td>\n",
       "      <td>1781.000000</td>\n",
       "      <td>1781.000000</td>\n",
       "      <td>1781.000000</td>\n",
       "      <td>1781.000000</td>\n",
       "    </tr>\n",
       "    <tr>\n",
       "      <th>mean</th>\n",
       "      <td>9.916023</td>\n",
       "      <td>9.897449</td>\n",
       "      <td>9.935126</td>\n",
       "      <td>9.926391</td>\n",
       "      <td>11.852176</td>\n",
       "      <td>11.852465</td>\n",
       "    </tr>\n",
       "    <tr>\n",
       "      <th>std</th>\n",
       "      <td>2.686881</td>\n",
       "      <td>2.694516</td>\n",
       "      <td>2.271425</td>\n",
       "      <td>2.276009</td>\n",
       "      <td>2.953024</td>\n",
       "      <td>2.952725</td>\n",
       "    </tr>\n",
       "    <tr>\n",
       "      <th>min</th>\n",
       "      <td>4.157500</td>\n",
       "      <td>4.165000</td>\n",
       "      <td>4.450000</td>\n",
       "      <td>4.450000</td>\n",
       "      <td>4.347500</td>\n",
       "      <td>4.315000</td>\n",
       "    </tr>\n",
       "    <tr>\n",
       "      <th>25%</th>\n",
       "      <td>7.875000</td>\n",
       "      <td>7.820000</td>\n",
       "      <td>8.350000</td>\n",
       "      <td>8.312500</td>\n",
       "      <td>10.005000</td>\n",
       "      <td>9.990000</td>\n",
       "    </tr>\n",
       "    <tr>\n",
       "      <th>50%</th>\n",
       "      <td>9.755000</td>\n",
       "      <td>9.745000</td>\n",
       "      <td>9.960000</td>\n",
       "      <td>9.945000</td>\n",
       "      <td>11.592500</td>\n",
       "      <td>11.575000</td>\n",
       "    </tr>\n",
       "    <tr>\n",
       "      <th>75%</th>\n",
       "      <td>11.930000</td>\n",
       "      <td>11.915000</td>\n",
       "      <td>11.440000</td>\n",
       "      <td>11.425000</td>\n",
       "      <td>13.812500</td>\n",
       "      <td>13.800000</td>\n",
       "    </tr>\n",
       "    <tr>\n",
       "      <th>max</th>\n",
       "      <td>17.830000</td>\n",
       "      <td>17.735000</td>\n",
       "      <td>17.430000</td>\n",
       "      <td>17.430000</td>\n",
       "      <td>24.155000</td>\n",
       "      <td>23.887500</td>\n",
       "    </tr>\n",
       "  </tbody>\n",
       "</table>\n",
       "</div>"
      ],
      "text/plain": [
       "          a/b Open    a/b Close     b/c open    b/c close     a/c open  \\\n",
       "count  1781.000000  1781.000000  1781.000000  1781.000000  1781.000000   \n",
       "mean      9.916023     9.897449     9.935126     9.926391    11.852176   \n",
       "std       2.686881     2.694516     2.271425     2.276009     2.953024   \n",
       "min       4.157500     4.165000     4.450000     4.450000     4.347500   \n",
       "25%       7.875000     7.820000     8.350000     8.312500    10.005000   \n",
       "50%       9.755000     9.745000     9.960000     9.945000    11.592500   \n",
       "75%      11.930000    11.915000    11.440000    11.425000    13.812500   \n",
       "max      17.830000    17.735000    17.430000    17.430000    24.155000   \n",
       "\n",
       "         a/c close  \n",
       "count  1781.000000  \n",
       "mean     11.852465  \n",
       "std       2.952725  \n",
       "min       4.315000  \n",
       "25%       9.990000  \n",
       "50%      11.575000  \n",
       "75%      13.800000  \n",
       "max      23.887500  "
      ]
     },
     "execution_count": 29,
     "metadata": {},
     "output_type": "execute_result"
    }
   ],
   "source": [
    "df.describe()"
   ]
  },
  {
   "cell_type": "markdown",
   "metadata": {},
   "source": [
    "Next, let's define a method to predict a normal distribution based on the joint distribution of two different normal distributions using Monte Carlo simulation. This is what we will use to predict a/c open.\n",
    "\n",
    "Let $N_1(0, \\sigma_1)$ and $N_2(0, \\sigma_2)$ be the normal distributions of a/b, b/c respectively.\n",
    "\n",
    "Let $s_1 \\in N_1$, $s_2 \\in N_2$ be randomly chosen.\n",
    "\n",
    "So the returns are $r_1 = e^{s_1} - 1$, $r_2 = e^{s_2} - 1$.\n",
    "\n",
    "So $r_3$, the expected return, is $r_3 = (1 + r_1) * (1 + r_2) - 1$."
   ]
  },
  {
   "cell_type": "code",
   "execution_count": 30,
   "metadata": {
    "collapsed": false
   },
   "outputs": [],
   "source": [
    "import numpy as np\n",
    "\n",
    "def random_return(mu_1, sigma_1, mu_2, sigma_2):\n",
    "    \"\"\"Random return of two distributions.\"\"\"\n",
    "    rand_1 = np.random.normal(mu_1, sigma_1)\n",
    "    rand_2 = np.random.normal(mu_2, sigma_2)\n",
    "    return np.exp(rand_1) * np.exp(rand_2) - 1\n",
    "\n",
    "\n",
    "def monte_carlo_distribution(mu_1, sigma_1, mu_2, sigma_2, iterations=1000):\n",
    "    \"\"\"Returns a distribution generated by a Monte Carlo simulation.\"\"\"\n",
    "    dist = [random_return(mu_1, sigma_1, mu_2, sigma_2) for x in range(iterations)]\n",
    "    return pd.DataFrame(dist)"
   ]
  },
  {
   "cell_type": "markdown",
   "metadata": {},
   "source": [
    "Now, let's predict our a/c open given a/b open and b/c open."
   ]
  },
  {
   "cell_type": "code",
   "execution_count": 61,
   "metadata": {
    "collapsed": false
   },
   "outputs": [
    {
     "data": {
      "text/plain": [
       "<matplotlib.axes._subplots.AxesSubplot at 0x1230e91d0>"
      ]
     },
     "execution_count": 61,
     "metadata": {},
     "output_type": "execute_result"
    },
    {
     "data": {
      "image/png": "[encoded data removed]",
      "text/plain": [
       "<matplotlib.figure.Figure at 0x1230eedd8>"
      ]
     },
     "metadata": {},
     "output_type": "display_data"
    }
   ],
   "source": [
    "df[['a/b Open', 'a/c close']].plot()"
   ]
  },
  {
   "cell_type": "code",
   "execution_count": 91,
   "metadata": {
    "collapsed": false
   },
   "outputs": [],
   "source": [
    "row = df.iloc[0]\n",
    "\n",
    "ab_open = row['a/b Open'] / 100\n",
    "bc_open = row['b/c open'] / 100\n",
    "\n",
    "ab = np.random.normal(0, ab_open, size=1000)\n",
    "bc = np.random.normal(0, bc_open, size=1000)\n",
    "\n",
    "abd = pd.DataFrame(ab)\n",
    "bcd = pd.DataFrame(bc)\n",
    "\n",
    "dist = monte_carlo_distribution(0, ab_open, 0, bc_open, 1000)"
   ]
  },
  {
   "cell_type": "code",
   "execution_count": 102,
   "metadata": {
    "collapsed": false
   },
   "outputs": [
    {
     "data": {
      "text/plain": [
       "<matplotlib.axes._subplots.AxesSubplot at 0x12b4780f0>"
      ]
     },
     "execution_count": 102,
     "metadata": {},
     "output_type": "execute_result"
    },
    {
     "data": {
      "image/png": "[encoded data removed]",
      "text/plain": [
       "<matplotlib.figure.Figure at 0x12b4854a8>"
      ]
     },
     "metadata": {},
     "output_type": "display_data"
    }
   ],
   "source": [
    "abd.plot(kind='hist', color='#ff0000', legend=False)"
   ]
  },
  {
   "cell_type": "code",
   "execution_count": 103,
   "metadata": {
    "collapsed": false
   },
   "outputs": [
    {
     "data": {
      "text/plain": [
       "<matplotlib.axes._subplots.AxesSubplot at 0x12b49b710>"
      ]
     },
     "execution_count": 103,
     "metadata": {},
     "output_type": "execute_result"
    },
    {
     "data": {
      "image/png": "[encoded data removed]",
      "text/plain": [
       "<matplotlib.figure.Figure at 0x12b6a87b8>"
      ]
     },
     "metadata": {},
     "output_type": "display_data"
    }
   ],
   "source": [
    "bcd.plot(kind='hist', color='#0000ff', legend=False)"
   ]
  },
  {
   "cell_type": "code",
   "execution_count": 104,
   "metadata": {
    "collapsed": false
   },
   "outputs": [
    {
     "data": {
      "text/plain": [
       "<matplotlib.axes._subplots.AxesSubplot at 0x12c8dfb70>"
      ]
     },
     "execution_count": 104,
     "metadata": {},
     "output_type": "execute_result"
    },
    {
     "data": {
      "image/png": "[encoded data removed]",
      "text/plain": [
       "<matplotlib.figure.Figure at 0x12c8f26d8>"
      ]
     },
     "metadata": {},
     "output_type": "display_data"
    }
   ],
   "source": [
    "dist.plot(kind='hist', color='#ff00ff', legend=False)"
   ]
  },
  {
   "cell_type": "code",
   "execution_count": 49,
   "metadata": {
    "collapsed": false
   },
   "outputs": [
    {
     "data": {
      "text/html": [
       "<div>\n",
       "<table border=\"1\" class=\"dataframe\">\n",
       "  <thead>\n",
       "    <tr style=\"text-align: right;\">\n",
       "      <th></th>\n",
       "      <th>actual_close</th>\n",
       "      <th>actual_open</th>\n",
       "      <th>buy</th>\n",
       "      <th>close_open_diff</th>\n",
       "      <th>diff</th>\n",
       "      <th>diff_pct</th>\n",
       "      <th>expected_open</th>\n",
       "      <th>success</th>\n",
       "    </tr>\n",
       "  </thead>\n",
       "  <tbody>\n",
       "    <tr>\n",
       "      <th>0</th>\n",
       "      <td>12.885</td>\n",
       "      <td>12.900</td>\n",
       "      <td>1</td>\n",
       "      <td>-0.015</td>\n",
       "      <td>5.640642</td>\n",
       "      <td>43.725908</td>\n",
       "      <td>18.540642</td>\n",
       "      <td>0</td>\n",
       "    </tr>\n",
       "    <tr>\n",
       "      <th>1</th>\n",
       "      <td>13.000</td>\n",
       "      <td>12.950</td>\n",
       "      <td>1</td>\n",
       "      <td>0.050</td>\n",
       "      <td>5.288378</td>\n",
       "      <td>40.836897</td>\n",
       "      <td>18.238378</td>\n",
       "      <td>1</td>\n",
       "    </tr>\n",
       "    <tr>\n",
       "      <th>2</th>\n",
       "      <td>12.650</td>\n",
       "      <td>13.000</td>\n",
       "      <td>1</td>\n",
       "      <td>-0.350</td>\n",
       "      <td>4.959245</td>\n",
       "      <td>38.148037</td>\n",
       "      <td>17.959245</td>\n",
       "      <td>0</td>\n",
       "    </tr>\n",
       "    <tr>\n",
       "      <th>3</th>\n",
       "      <td>12.495</td>\n",
       "      <td>12.715</td>\n",
       "      <td>1</td>\n",
       "      <td>-0.220</td>\n",
       "      <td>4.514260</td>\n",
       "      <td>35.503420</td>\n",
       "      <td>17.229260</td>\n",
       "      <td>0</td>\n",
       "    </tr>\n",
       "    <tr>\n",
       "      <th>4</th>\n",
       "      <td>12.270</td>\n",
       "      <td>12.580</td>\n",
       "      <td>1</td>\n",
       "      <td>-0.310</td>\n",
       "      <td>4.196692</td>\n",
       "      <td>33.360033</td>\n",
       "      <td>16.776692</td>\n",
       "      <td>0</td>\n",
       "    </tr>\n",
       "  </tbody>\n",
       "</table>\n",
       "</div>"
      ],
      "text/plain": [
       "   actual_close  actual_open  buy  close_open_diff      diff   diff_pct  \\\n",
       "0        12.885       12.900    1           -0.015  5.640642  43.725908   \n",
       "1        13.000       12.950    1            0.050  5.288378  40.836897   \n",
       "2        12.650       13.000    1           -0.350  4.959245  38.148037   \n",
       "3        12.495       12.715    1           -0.220  4.514260  35.503420   \n",
       "4        12.270       12.580    1           -0.310  4.196692  33.360033   \n",
       "\n",
       "   expected_open  success  \n",
       "0      18.540642        0  \n",
       "1      18.238378        1  \n",
       "2      17.959245        0  \n",
       "3      17.229260        0  \n",
       "4      16.776692        0  "
      ]
     },
     "execution_count": 49,
     "metadata": {},
     "output_type": "execute_result"
    }
   ],
   "source": [
    "def predict_ac_open(ab_open, bc_open):\n",
    "    dist = monte_carlo_distribution(0, ab_open / 100, 0, bc_open / 100, 1000)\n",
    "    return float(dist.std() * 100)\n",
    "\n",
    "def predict_row(row):\n",
    "    ab_open = row['a/b Open']\n",
    "    bc_open = row['b/c open']\n",
    "    ac_open = row['a/c open']\n",
    "    ac_close = row['a/c close']\n",
    "    expected_open = predict_ac_open(ab_open, bc_open)\n",
    "    diff = expected_open - ac_open\n",
    "    should_buy = expected_open > ac_open\n",
    "    close_open_diff = ac_close - ac_open\n",
    "    \n",
    "    success = (close_open_diff >= 0 and should_buy) \\\n",
    "        or (close_open_diff < 0 and not should_buy)\n",
    "        \n",
    "    return {\n",
    "        'expected_open': expected_open,\n",
    "        'actual_open': ac_open,\n",
    "        'actual_close': ac_close,\n",
    "        'buy': 1 if should_buy else 0,\n",
    "        'success': 1 if success else 0,\n",
    "        'diff': diff,\n",
    "        'diff_pct': diff / ac_open * 100,\n",
    "        'close_open_diff': close_open_diff,\n",
    "    }\n",
    "    \n",
    "\n",
    "results = pd.DataFrame([predict_row(row) for index, row in df.iterrows()])\n",
    "results.head()"
   ]
  },
  {
   "cell_type": "code",
   "execution_count": 53,
   "metadata": {
    "collapsed": false
   },
   "outputs": [
    {
     "data": {
      "text/html": [
       "<div>\n",
       "<table border=\"1\" class=\"dataframe\">\n",
       "  <thead>\n",
       "    <tr style=\"text-align: right;\">\n",
       "      <th></th>\n",
       "      <th>actual_close</th>\n",
       "      <th>actual_open</th>\n",
       "      <th>buy</th>\n",
       "      <th>close_open_diff</th>\n",
       "      <th>diff</th>\n",
       "      <th>diff_pct</th>\n",
       "      <th>expected_open</th>\n",
       "      <th>success</th>\n",
       "    </tr>\n",
       "  </thead>\n",
       "  <tbody>\n",
       "    <tr>\n",
       "      <th>count</th>\n",
       "      <td>1781.000000</td>\n",
       "      <td>1781.000000</td>\n",
       "      <td>1781.000000</td>\n",
       "      <td>1781.000000</td>\n",
       "      <td>1781.000000</td>\n",
       "      <td>1781.000000</td>\n",
       "      <td>1781.000000</td>\n",
       "      <td>1781.000000</td>\n",
       "    </tr>\n",
       "    <tr>\n",
       "      <th>mean</th>\n",
       "      <td>11.852465</td>\n",
       "      <td>11.852176</td>\n",
       "      <td>0.967996</td>\n",
       "      <td>0.000289</td>\n",
       "      <td>2.585939</td>\n",
       "      <td>23.790148</td>\n",
       "      <td>14.438114</td>\n",
       "      <td>0.475014</td>\n",
       "    </tr>\n",
       "    <tr>\n",
       "      <th>std</th>\n",
       "      <td>2.952725</td>\n",
       "      <td>2.953024</td>\n",
       "      <td>0.176061</td>\n",
       "      <td>0.558560</td>\n",
       "      <td>1.490482</td>\n",
       "      <td>14.827213</td>\n",
       "      <td>2.992065</td>\n",
       "      <td>0.499516</td>\n",
       "    </tr>\n",
       "    <tr>\n",
       "      <th>min</th>\n",
       "      <td>4.315000</td>\n",
       "      <td>4.347500</td>\n",
       "      <td>0.000000</td>\n",
       "      <td>-3.392500</td>\n",
       "      <td>-1.748743</td>\n",
       "      <td>-8.892348</td>\n",
       "      <td>6.208984</td>\n",
       "      <td>0.000000</td>\n",
       "    </tr>\n",
       "    <tr>\n",
       "      <th>25%</th>\n",
       "      <td>9.990000</td>\n",
       "      <td>10.005000</td>\n",
       "      <td>1.000000</td>\n",
       "      <td>-0.275000</td>\n",
       "      <td>1.447761</td>\n",
       "      <td>12.003894</td>\n",
       "      <td>12.515883</td>\n",
       "      <td>0.000000</td>\n",
       "    </tr>\n",
       "    <tr>\n",
       "      <th>50%</th>\n",
       "      <td>11.575000</td>\n",
       "      <td>11.592500</td>\n",
       "      <td>1.000000</td>\n",
       "      <td>-0.022500</td>\n",
       "      <td>2.565235</td>\n",
       "      <td>22.302555</td>\n",
       "      <td>14.673659</td>\n",
       "      <td>0.000000</td>\n",
       "    </tr>\n",
       "    <tr>\n",
       "      <th>75%</th>\n",
       "      <td>13.800000</td>\n",
       "      <td>13.812500</td>\n",
       "      <td>1.000000</td>\n",
       "      <td>0.225000</td>\n",
       "      <td>3.692651</td>\n",
       "      <td>34.568999</td>\n",
       "      <td>16.380501</td>\n",
       "      <td>1.000000</td>\n",
       "    </tr>\n",
       "    <tr>\n",
       "      <th>max</th>\n",
       "      <td>23.887500</td>\n",
       "      <td>24.155000</td>\n",
       "      <td>1.000000</td>\n",
       "      <td>3.947500</td>\n",
       "      <td>7.017519</td>\n",
       "      <td>72.029852</td>\n",
       "      <td>25.763508</td>\n",
       "      <td>1.000000</td>\n",
       "    </tr>\n",
       "  </tbody>\n",
       "</table>\n",
       "</div>"
      ],
      "text/plain": [
       "       actual_close  actual_open          buy  close_open_diff         diff  \\\n",
       "count   1781.000000  1781.000000  1781.000000      1781.000000  1781.000000   \n",
       "mean      11.852465    11.852176     0.967996         0.000289     2.585939   \n",
       "std        2.952725     2.953024     0.176061         0.558560     1.490482   \n",
       "min        4.315000     4.347500     0.000000        -3.392500    -1.748743   \n",
       "25%        9.990000    10.005000     1.000000        -0.275000     1.447761   \n",
       "50%       11.575000    11.592500     1.000000        -0.022500     2.565235   \n",
       "75%       13.800000    13.812500     1.000000         0.225000     3.692651   \n",
       "max       23.887500    24.155000     1.000000         3.947500     7.017519   \n",
       "\n",
       "          diff_pct  expected_open      success  \n",
       "count  1781.000000    1781.000000  1781.000000  \n",
       "mean     23.790148      14.438114     0.475014  \n",
       "std      14.827213       2.992065     0.499516  \n",
       "min      -8.892348       6.208984     0.000000  \n",
       "25%      12.003894      12.515883     0.000000  \n",
       "50%      22.302555      14.673659     0.000000  \n",
       "75%      34.568999      16.380501     1.000000  \n",
       "max      72.029852      25.763508     1.000000  "
      ]
     },
     "execution_count": 53,
     "metadata": {},
     "output_type": "execute_result"
    }
   ],
   "source": [
    "results.describe()"
   ]
  },
  {
   "cell_type": "code",
   "execution_count": 56,
   "metadata": {
    "collapsed": false
   },
   "outputs": [
    {
     "data": {
      "text/html": [
       "<div>\n",
       "<table border=\"1\" class=\"dataframe\">\n",
       "  <thead>\n",
       "    <tr style=\"text-align: right;\">\n",
       "      <th></th>\n",
       "      <th>diff</th>\n",
       "      <th>diff_pct</th>\n",
       "      <th>buy</th>\n",
       "      <th>success</th>\n",
       "    </tr>\n",
       "  </thead>\n",
       "  <tbody>\n",
       "    <tr>\n",
       "      <th>count</th>\n",
       "      <td>1781.000000</td>\n",
       "      <td>1781.000000</td>\n",
       "      <td>1781.000000</td>\n",
       "      <td>1781.000000</td>\n",
       "    </tr>\n",
       "    <tr>\n",
       "      <th>mean</th>\n",
       "      <td>2.585939</td>\n",
       "      <td>23.790148</td>\n",
       "      <td>0.967996</td>\n",
       "      <td>0.475014</td>\n",
       "    </tr>\n",
       "    <tr>\n",
       "      <th>std</th>\n",
       "      <td>1.490482</td>\n",
       "      <td>14.827213</td>\n",
       "      <td>0.176061</td>\n",
       "      <td>0.499516</td>\n",
       "    </tr>\n",
       "    <tr>\n",
       "      <th>min</th>\n",
       "      <td>-1.748743</td>\n",
       "      <td>-8.892348</td>\n",
       "      <td>0.000000</td>\n",
       "      <td>0.000000</td>\n",
       "    </tr>\n",
       "    <tr>\n",
       "      <th>25%</th>\n",
       "      <td>1.447761</td>\n",
       "      <td>12.003894</td>\n",
       "      <td>1.000000</td>\n",
       "      <td>0.000000</td>\n",
       "    </tr>\n",
       "    <tr>\n",
       "      <th>50%</th>\n",
       "      <td>2.565235</td>\n",
       "      <td>22.302555</td>\n",
       "      <td>1.000000</td>\n",
       "      <td>0.000000</td>\n",
       "    </tr>\n",
       "    <tr>\n",
       "      <th>75%</th>\n",
       "      <td>3.692651</td>\n",
       "      <td>34.568999</td>\n",
       "      <td>1.000000</td>\n",
       "      <td>1.000000</td>\n",
       "    </tr>\n",
       "    <tr>\n",
       "      <th>max</th>\n",
       "      <td>7.017519</td>\n",
       "      <td>72.029852</td>\n",
       "      <td>1.000000</td>\n",
       "      <td>1.000000</td>\n",
       "    </tr>\n",
       "  </tbody>\n",
       "</table>\n",
       "</div>"
      ],
      "text/plain": [
       "              diff     diff_pct          buy      success\n",
       "count  1781.000000  1781.000000  1781.000000  1781.000000\n",
       "mean      2.585939    23.790148     0.967996     0.475014\n",
       "std       1.490482    14.827213     0.176061     0.499516\n",
       "min      -1.748743    -8.892348     0.000000     0.000000\n",
       "25%       1.447761    12.003894     1.000000     0.000000\n",
       "50%       2.565235    22.302555     1.000000     0.000000\n",
       "75%       3.692651    34.568999     1.000000     1.000000\n",
       "max       7.017519    72.029852     1.000000     1.000000"
      ]
     },
     "execution_count": 56,
     "metadata": {},
     "output_type": "execute_result"
    }
   ],
   "source": [
    "results[['diff', 'diff_pct', 'buy', 'success']].describe()"
   ]
  },
  {
   "cell_type": "code",
   "execution_count": 60,
   "metadata": {
    "collapsed": false
   },
   "outputs": [
    {
     "data": {
      "text/plain": [
       "<matplotlib.axes._subplots.AxesSubplot at 0x1226c45f8>"
      ]
     },
     "execution_count": 60,
     "metadata": {},
     "output_type": "execute_result"
    },
    {
     "data": {
      "image/png": "[encoded data removed]",
      "text/plain": [
       "<matplotlib.figure.Figure at 0x121ea72e8>"
      ]
     },
     "metadata": {},
     "output_type": "display_data"
    }
   ],
   "source": [
    "results[['expected_open', 'actual_open']].plot()"
   ]
  },
  {
   "cell_type": "code",
   "execution_count": 52,
   "metadata": {
    "collapsed": false
   },
   "outputs": [
    {
     "data": {
      "text/plain": [
       "<matplotlib.axes._subplots.AxesSubplot at 0x1223aad68>"
      ]
     },
     "execution_count": 52,
     "metadata": {},
     "output_type": "execute_result"
    },
    {
     "data": {
      "image/png": "[encoded data removed]",
      "text/plain": [
       "<matplotlib.figure.Figure at 0x122391128>"
      ]
     },
     "metadata": {},
     "output_type": "display_data"
    }
   ],
   "source": [
    "results[['diff_pct']].plot(kind='hist')"
   ]
  },
  {
   "cell_type": "markdown",
   "metadata": {},
   "source": [
    "This is inconclusive -- actually worse. Success rate is ~50%."
   ]
  }
 ],
 "metadata": {
  "anaconda-cloud": {},
  "kernelspec": {
   "display_name": "Python [Root]",
   "language": "python",
   "name": "Python [Root]"
  },
  "language_info": {
   "codemirror_mode": {
    "name": "ipython",
    "version": 3
   },
   "file_extension": ".py",
   "mimetype": "text/x-python",
   "name": "python",
   "nbconvert_exporter": "python",
   "pygments_lexer": "ipython3",
   "version": "3.5.2"
  }
 },
 "nbformat": 4,
 "nbformat_minor": 0
}
